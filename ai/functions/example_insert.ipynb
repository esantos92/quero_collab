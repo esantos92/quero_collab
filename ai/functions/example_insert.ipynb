{
 "cells": [
  {
   "cell_type": "code",
   "execution_count": 1,
   "metadata": {},
   "outputs": [],
   "source": [
    "from db_connection import *"
   ]
  },
  {
   "cell_type": "code",
   "execution_count": 2,
   "metadata": {},
   "outputs": [],
   "source": [
    "conn = db_connect()"
   ]
  },
  {
   "cell_type": "code",
   "execution_count": 3,
   "metadata": {},
   "outputs": [],
   "source": [
    "#INSERTING VALUES ON TABLES\n",
    "\n",
    "sql = \"\"\"INSERT INTO quero_collab.authors (author_id, profile_id, name) VALUES (%s, %s, %s)\"\"\"\n",
    "db_insert(conn, sql, [(9, 9, 'Lucas Amorim')])"
   ]
  },
  {
   "cell_type": "code",
   "execution_count": 12,
   "metadata": {},
   "outputs": [
    {
     "data": {
      "text/plain": [
       "[('posts', 'post_id', 'integer'),\n",
       " ('posts', 'author_id', 'integer'),\n",
       " ('posts', 'text_data', 'character varying'),\n",
       " ('posts', 'created_at', 'timestamp without time zone')]"
      ]
     },
     "execution_count": 12,
     "metadata": {},
     "output_type": "execute_result"
    }
   ],
   "source": [
    "response = db_consume(conn, \"\"\"SELECT \n",
    "                                    table_name, \n",
    "                                    column_name, \n",
    "                                    data_type \n",
    "                                FROM \n",
    "                                    information_schema.columns\n",
    "                                where\n",
    "                                    table_name = 'posts'\"\"\")\n",
    "response"
   ]
  },
  {
   "cell_type": "code",
   "execution_count": null,
   "metadata": {},
   "outputs": [],
   "source": []
  }
 ],
 "metadata": {
  "interpreter": {
   "hash": "916dbcbb3f70747c44a77c7bcd40155683ae19c65e1c03b4aa3499c5328201f1"
  },
  "kernelspec": {
   "display_name": "Python 3.8.10 64-bit",
   "language": "python",
   "name": "python3"
  },
  "language_info": {
   "codemirror_mode": {
    "name": "ipython",
    "version": 3
   },
   "file_extension": ".py",
   "mimetype": "text/x-python",
   "name": "python",
   "nbconvert_exporter": "python",
   "pygments_lexer": "ipython3",
   "version": "3.8.10"
  },
  "orig_nbformat": 4
 },
 "nbformat": 4,
 "nbformat_minor": 2
}
