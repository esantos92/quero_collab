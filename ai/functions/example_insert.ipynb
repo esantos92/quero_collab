{
 "cells": [
  {
   "cell_type": "code",
   "execution_count": 4,
   "metadata": {},
   "outputs": [],
   "source": [
    "from db_connection import *"
   ]
  },
  {
   "cell_type": "code",
   "execution_count": 9,
   "metadata": {},
   "outputs": [],
   "source": [
    "conn = db_connect()"
   ]
  },
  {
   "cell_type": "code",
   "execution_count": 3,
   "metadata": {},
   "outputs": [],
   "source": [
    "#INSERTING VALUES ON TABLES\n",
    "\n",
    "sql = \"\"\"INSERT INTO quero_collab.authors (author_id, profile_id, name) VALUES (%s, %s, %s)\"\"\"\n",
    "db_insert(conn, sql, [(9, 9, 'Lucas Amorim')])"
   ]
  },
  {
   "cell_type": "code",
   "execution_count": null,
   "metadata": {},
   "outputs": [],
   "source": [
    "sql = \"\"\"INSERT INTO quero_collab.authors (post_id, author_id, text_data) VALUES (%d, %d, %s, %s)\"\"\"\n",
    "db_insert(conn, sql, [(3, 3, 'Lucas Amorim', '')])"
   ]
  },
  {
   "cell_type": "code",
   "execution_count": 11,
   "metadata": {},
   "outputs": [
    {
     "data": {
      "text/plain": [
       "[('profiles', 'profile_id', 'integer'),\n",
       " ('profiles', 'interests', 'ARRAY'),\n",
       " ('profiles', 'team_id', 'integer')]"
      ]
     },
     "execution_count": 11,
     "metadata": {},
     "output_type": "execute_result"
    }
   ],
   "source": [
    "response = db_consume(conn, \"\"\"SELECT \n",
    "                                    table_name, \n",
    "                                    column_name, \n",
    "                                    data_type \n",
    "                                FROM \n",
    "                                    information_schema.columns\n",
    "                                where\n",
    "                                    table_name = 'profiles'\"\"\")\n",
    "response"
   ]
  },
  {
   "cell_type": "code",
   "execution_count": 10,
   "metadata": {},
   "outputs": [
    {
     "data": {
      "text/plain": [
       "[(1,\n",
       "  1,\n",
       "  'Atualmente estou desenvolvendo um script que consome a API do Google Search Console, para auxiliar o time de SEO',\n",
       "  datetime.datetime(2022, 4, 10, 0, 7, 55, 115183)),\n",
       " (2,\n",
       "  2,\n",
       "  'Antes de criar algo, verifique se já não foi criado!! Experiência própria com Rails',\n",
       "  datetime.datetime(2022, 4, 10, 0, 9, 10, 524515))]"
      ]
     },
     "execution_count": 10,
     "metadata": {},
     "output_type": "execute_result"
    }
   ],
   "source": [
    "response = db_consume(conn, \"\"\"SELECT * FROM posts\"\"\")\n",
    "response"
   ]
  },
  {
   "cell_type": "code",
   "execution_count": 13,
   "metadata": {},
   "outputs": [
    {
     "name": "stdout",
     "output_type": "stream",
     "text": [
      "get model\n"
     ]
    },
    {
     "ename": "FileNotFoundError",
     "evalue": "[Errno 2] No such file or directory: 'd2v_pretreined'",
     "output_type": "error",
     "traceback": [
      "\u001b[0;31m---------------------------------------------------------------------------\u001b[0m",
      "\u001b[0;31mFileNotFoundError\u001b[0m                         Traceback (most recent call last)",
      "\u001b[1;32m/home/hevelyncarvalho/Documents/quero_collab/ai/functions/example_insert.ipynb Cell 7'\u001b[0m in \u001b[0;36m<cell line: 13>\u001b[0;34m()\u001b[0m\n\u001b[1;32m     <a href='vscode-notebook-cell:/home/hevelyncarvalho/Documents/quero_collab/ai/functions/example_insert.ipynb#ch0000005?line=9'>10</a>\u001b[0m \u001b[39m#tokens = get_tokens_from_posts(user_id, postsDF)  \u001b[39;00m\n\u001b[1;32m     <a href='vscode-notebook-cell:/home/hevelyncarvalho/Documents/quero_collab/ai/functions/example_insert.ipynb#ch0000005?line=11'>12</a>\u001b[0m \u001b[39mprint\u001b[39m(\u001b[39m\"\u001b[39m\u001b[39mget model\u001b[39m\u001b[39m\"\u001b[39m)\n\u001b[0;32m---> <a href='vscode-notebook-cell:/home/hevelyncarvalho/Documents/quero_collab/ai/functions/example_insert.ipynb#ch0000005?line=12'>13</a>\u001b[0m model_post \u001b[39m=\u001b[39m get_model(postsDF[\u001b[39m'\u001b[39;49m\u001b[39mtext_data\u001b[39;49m\u001b[39m'\u001b[39;49m])\n\u001b[1;32m     <a href='vscode-notebook-cell:/home/hevelyncarvalho/Documents/quero_collab/ai/functions/example_insert.ipynb#ch0000005?line=13'>14</a>\u001b[0m \u001b[39mprint\u001b[39m(\u001b[39m\"\u001b[39m\u001b[39mget sims\u001b[39m\u001b[39m\"\u001b[39m)\n\u001b[1;32m     <a href='vscode-notebook-cell:/home/hevelyncarvalho/Documents/quero_collab/ai/functions/example_insert.ipynb#ch0000005?line=14'>15</a>\u001b[0m metricsDF \u001b[39m=\u001b[39m get_posts_sims(model_post, postsDF)\n",
      "File \u001b[0;32m~/Documents/quero_collab/ai/functions/similarity.py:26\u001b[0m, in \u001b[0;36mget_model\u001b[0;34m(posts)\u001b[0m\n\u001b[1;32m     <a href='file:///home/hevelyncarvalho/Documents/quero_collab/ai/functions/similarity.py?line=24'>25</a>\u001b[0m \u001b[39mdef\u001b[39;00m \u001b[39mget_model\u001b[39m(posts):\n\u001b[0;32m---> <a href='file:///home/hevelyncarvalho/Documents/quero_collab/ai/functions/similarity.py?line=25'>26</a>\u001b[0m     d2v \u001b[39m=\u001b[39m Doc2Vec\u001b[39m.\u001b[39;49mload(\u001b[39m'\u001b[39;49m\u001b[39md2v_pretreined\u001b[39;49m\u001b[39m'\u001b[39;49m)\n\u001b[1;32m     <a href='file:///home/hevelyncarvalho/Documents/quero_collab/ai/functions/similarity.py?line=26'>27</a>\u001b[0m     keywords \u001b[39m=\u001b[39m \u001b[39mlist\u001b[39m(\u001b[39mmap\u001b[39m(preprocessing, posts))\n\u001b[1;32m     <a href='file:///home/hevelyncarvalho/Documents/quero_collab/ai/functions/similarity.py?line=27'>28</a>\u001b[0m     tagged_posts \u001b[39m=\u001b[39m [TaggedDocument(doc, [i]) \u001b[39mfor\u001b[39;00m i, doc \u001b[39min\u001b[39;00m \u001b[39menumerate\u001b[39m(keywords)] \n",
      "File \u001b[0;32m~/.local/lib/python3.8/site-packages/gensim/models/doc2vec.py:807\u001b[0m, in \u001b[0;36mDoc2Vec.load\u001b[0;34m(cls, *args, **kwargs)\u001b[0m\n\u001b[1;32m    <a href='file:///home/hevelyncarvalho/.local/lib/python3.8/site-packages/gensim/models/doc2vec.py?line=783'>784</a>\u001b[0m \u001b[39m\"\"\"Load a previously saved :class:`~gensim.models.doc2vec.Doc2Vec` model.\u001b[39;00m\n\u001b[1;32m    <a href='file:///home/hevelyncarvalho/.local/lib/python3.8/site-packages/gensim/models/doc2vec.py?line=784'>785</a>\u001b[0m \n\u001b[1;32m    <a href='file:///home/hevelyncarvalho/.local/lib/python3.8/site-packages/gensim/models/doc2vec.py?line=785'>786</a>\u001b[0m \u001b[39mParameters\u001b[39;00m\n\u001b[0;32m   (...)\u001b[0m\n\u001b[1;32m    <a href='file:///home/hevelyncarvalho/.local/lib/python3.8/site-packages/gensim/models/doc2vec.py?line=803'>804</a>\u001b[0m \n\u001b[1;32m    <a href='file:///home/hevelyncarvalho/.local/lib/python3.8/site-packages/gensim/models/doc2vec.py?line=804'>805</a>\u001b[0m \u001b[39m\"\"\"\u001b[39;00m\n\u001b[1;32m    <a href='file:///home/hevelyncarvalho/.local/lib/python3.8/site-packages/gensim/models/doc2vec.py?line=805'>806</a>\u001b[0m \u001b[39mtry\u001b[39;00m:\n\u001b[0;32m--> <a href='file:///home/hevelyncarvalho/.local/lib/python3.8/site-packages/gensim/models/doc2vec.py?line=806'>807</a>\u001b[0m     \u001b[39mreturn\u001b[39;00m \u001b[39msuper\u001b[39;49m(Doc2Vec, \u001b[39mcls\u001b[39;49m)\u001b[39m.\u001b[39;49mload(\u001b[39m*\u001b[39;49margs, rethrow\u001b[39m=\u001b[39;49m\u001b[39mTrue\u001b[39;49;00m, \u001b[39m*\u001b[39;49m\u001b[39m*\u001b[39;49mkwargs)\n\u001b[1;32m    <a href='file:///home/hevelyncarvalho/.local/lib/python3.8/site-packages/gensim/models/doc2vec.py?line=807'>808</a>\u001b[0m \u001b[39mexcept\u001b[39;00m \u001b[39mAttributeError\u001b[39;00m \u001b[39mas\u001b[39;00m ae:\n\u001b[1;32m    <a href='file:///home/hevelyncarvalho/.local/lib/python3.8/site-packages/gensim/models/doc2vec.py?line=808'>809</a>\u001b[0m     logger\u001b[39m.\u001b[39merror(\n\u001b[1;32m    <a href='file:///home/hevelyncarvalho/.local/lib/python3.8/site-packages/gensim/models/doc2vec.py?line=809'>810</a>\u001b[0m         \u001b[39m\"\u001b[39m\u001b[39mModel load error. Was model saved using code from an older Gensim version? \u001b[39m\u001b[39m\"\u001b[39m\n\u001b[1;32m    <a href='file:///home/hevelyncarvalho/.local/lib/python3.8/site-packages/gensim/models/doc2vec.py?line=810'>811</a>\u001b[0m         \u001b[39m\"\u001b[39m\u001b[39mTry loading older model using gensim-3.8.3, then re-saving, to restore \u001b[39m\u001b[39m\"\u001b[39m\n\u001b[1;32m    <a href='file:///home/hevelyncarvalho/.local/lib/python3.8/site-packages/gensim/models/doc2vec.py?line=811'>812</a>\u001b[0m         \u001b[39m\"\u001b[39m\u001b[39mcompatibility with current code.\u001b[39m\u001b[39m\"\u001b[39m)\n",
      "File \u001b[0;32m~/.local/lib/python3.8/site-packages/gensim/models/word2vec.py:1930\u001b[0m, in \u001b[0;36mWord2Vec.load\u001b[0;34m(cls, rethrow, *args, **kwargs)\u001b[0m\n\u001b[1;32m   <a href='file:///home/hevelyncarvalho/.local/lib/python3.8/site-packages/gensim/models/word2vec.py?line=1910'>1911</a>\u001b[0m \u001b[39m\"\"\"Load a previously saved :class:`~gensim.models.word2vec.Word2Vec` model.\u001b[39;00m\n\u001b[1;32m   <a href='file:///home/hevelyncarvalho/.local/lib/python3.8/site-packages/gensim/models/word2vec.py?line=1911'>1912</a>\u001b[0m \n\u001b[1;32m   <a href='file:///home/hevelyncarvalho/.local/lib/python3.8/site-packages/gensim/models/word2vec.py?line=1912'>1913</a>\u001b[0m \u001b[39mSee Also\u001b[39;00m\n\u001b[0;32m   (...)\u001b[0m\n\u001b[1;32m   <a href='file:///home/hevelyncarvalho/.local/lib/python3.8/site-packages/gensim/models/word2vec.py?line=1926'>1927</a>\u001b[0m \n\u001b[1;32m   <a href='file:///home/hevelyncarvalho/.local/lib/python3.8/site-packages/gensim/models/word2vec.py?line=1927'>1928</a>\u001b[0m \u001b[39m\"\"\"\u001b[39;00m\n\u001b[1;32m   <a href='file:///home/hevelyncarvalho/.local/lib/python3.8/site-packages/gensim/models/word2vec.py?line=1928'>1929</a>\u001b[0m \u001b[39mtry\u001b[39;00m:\n\u001b[0;32m-> <a href='file:///home/hevelyncarvalho/.local/lib/python3.8/site-packages/gensim/models/word2vec.py?line=1929'>1930</a>\u001b[0m     model \u001b[39m=\u001b[39m \u001b[39msuper\u001b[39;49m(Word2Vec, \u001b[39mcls\u001b[39;49m)\u001b[39m.\u001b[39;49mload(\u001b[39m*\u001b[39;49margs, \u001b[39m*\u001b[39;49m\u001b[39m*\u001b[39;49mkwargs)\n\u001b[1;32m   <a href='file:///home/hevelyncarvalho/.local/lib/python3.8/site-packages/gensim/models/word2vec.py?line=1930'>1931</a>\u001b[0m     \u001b[39mif\u001b[39;00m \u001b[39mnot\u001b[39;00m \u001b[39misinstance\u001b[39m(model, Word2Vec):\n\u001b[1;32m   <a href='file:///home/hevelyncarvalho/.local/lib/python3.8/site-packages/gensim/models/word2vec.py?line=1931'>1932</a>\u001b[0m         rethrow \u001b[39m=\u001b[39m \u001b[39mTrue\u001b[39;00m\n",
      "File \u001b[0;32m~/.local/lib/python3.8/site-packages/gensim/utils.py:485\u001b[0m, in \u001b[0;36mSaveLoad.load\u001b[0;34m(cls, fname, mmap)\u001b[0m\n\u001b[1;32m    <a href='file:///home/hevelyncarvalho/.local/lib/python3.8/site-packages/gensim/utils.py?line=480'>481</a>\u001b[0m logger\u001b[39m.\u001b[39minfo(\u001b[39m\"\u001b[39m\u001b[39mloading \u001b[39m\u001b[39m%s\u001b[39;00m\u001b[39m object from \u001b[39m\u001b[39m%s\u001b[39;00m\u001b[39m\"\u001b[39m, \u001b[39mcls\u001b[39m\u001b[39m.\u001b[39m\u001b[39m__name__\u001b[39m, fname)\n\u001b[1;32m    <a href='file:///home/hevelyncarvalho/.local/lib/python3.8/site-packages/gensim/utils.py?line=482'>483</a>\u001b[0m compress, subname \u001b[39m=\u001b[39m SaveLoad\u001b[39m.\u001b[39m_adapt_by_suffix(fname)\n\u001b[0;32m--> <a href='file:///home/hevelyncarvalho/.local/lib/python3.8/site-packages/gensim/utils.py?line=484'>485</a>\u001b[0m obj \u001b[39m=\u001b[39m unpickle(fname)\n\u001b[1;32m    <a href='file:///home/hevelyncarvalho/.local/lib/python3.8/site-packages/gensim/utils.py?line=485'>486</a>\u001b[0m obj\u001b[39m.\u001b[39m_load_specials(fname, mmap, compress, subname)\n\u001b[1;32m    <a href='file:///home/hevelyncarvalho/.local/lib/python3.8/site-packages/gensim/utils.py?line=486'>487</a>\u001b[0m obj\u001b[39m.\u001b[39madd_lifecycle_event(\u001b[39m\"\u001b[39m\u001b[39mloaded\u001b[39m\u001b[39m\"\u001b[39m, fname\u001b[39m=\u001b[39mfname)\n",
      "File \u001b[0;32m~/.local/lib/python3.8/site-packages/gensim/utils.py:1459\u001b[0m, in \u001b[0;36munpickle\u001b[0;34m(fname)\u001b[0m\n\u001b[1;32m   <a href='file:///home/hevelyncarvalho/.local/lib/python3.8/site-packages/gensim/utils.py?line=1444'>1445</a>\u001b[0m \u001b[39mdef\u001b[39;00m \u001b[39munpickle\u001b[39m(fname):\n\u001b[1;32m   <a href='file:///home/hevelyncarvalho/.local/lib/python3.8/site-packages/gensim/utils.py?line=1445'>1446</a>\u001b[0m     \u001b[39m\"\"\"Load object from `fname`, using smart_open so that `fname` can be on S3, HDFS, compressed etc.\u001b[39;00m\n\u001b[1;32m   <a href='file:///home/hevelyncarvalho/.local/lib/python3.8/site-packages/gensim/utils.py?line=1446'>1447</a>\u001b[0m \n\u001b[1;32m   <a href='file:///home/hevelyncarvalho/.local/lib/python3.8/site-packages/gensim/utils.py?line=1447'>1448</a>\u001b[0m \u001b[39m    Parameters\u001b[39;00m\n\u001b[0;32m   (...)\u001b[0m\n\u001b[1;32m   <a href='file:///home/hevelyncarvalho/.local/lib/python3.8/site-packages/gensim/utils.py?line=1456'>1457</a>\u001b[0m \n\u001b[1;32m   <a href='file:///home/hevelyncarvalho/.local/lib/python3.8/site-packages/gensim/utils.py?line=1457'>1458</a>\u001b[0m \u001b[39m    \"\"\"\u001b[39;00m\n\u001b[0;32m-> <a href='file:///home/hevelyncarvalho/.local/lib/python3.8/site-packages/gensim/utils.py?line=1458'>1459</a>\u001b[0m     \u001b[39mwith\u001b[39;00m \u001b[39mopen\u001b[39;49m(fname, \u001b[39m'\u001b[39;49m\u001b[39mrb\u001b[39;49m\u001b[39m'\u001b[39;49m) \u001b[39mas\u001b[39;00m f:\n\u001b[1;32m   <a href='file:///home/hevelyncarvalho/.local/lib/python3.8/site-packages/gensim/utils.py?line=1459'>1460</a>\u001b[0m         \u001b[39mreturn\u001b[39;00m _pickle\u001b[39m.\u001b[39mload(f, encoding\u001b[39m=\u001b[39m\u001b[39m'\u001b[39m\u001b[39mlatin1\u001b[39m\u001b[39m'\u001b[39m)\n",
      "File \u001b[0;32m~/.local/lib/python3.8/site-packages/smart_open/smart_open_lib.py:188\u001b[0m, in \u001b[0;36mopen\u001b[0;34m(uri, mode, buffering, encoding, errors, newline, closefd, opener, ignore_ext, compression, transport_params)\u001b[0m\n\u001b[1;32m    <a href='file:///home/hevelyncarvalho/.local/lib/python3.8/site-packages/smart_open/smart_open_lib.py?line=184'>185</a>\u001b[0m \u001b[39mif\u001b[39;00m transport_params \u001b[39mis\u001b[39;00m \u001b[39mNone\u001b[39;00m:\n\u001b[1;32m    <a href='file:///home/hevelyncarvalho/.local/lib/python3.8/site-packages/smart_open/smart_open_lib.py?line=185'>186</a>\u001b[0m     transport_params \u001b[39m=\u001b[39m {}\n\u001b[0;32m--> <a href='file:///home/hevelyncarvalho/.local/lib/python3.8/site-packages/smart_open/smart_open_lib.py?line=187'>188</a>\u001b[0m fobj \u001b[39m=\u001b[39m _shortcut_open(\n\u001b[1;32m    <a href='file:///home/hevelyncarvalho/.local/lib/python3.8/site-packages/smart_open/smart_open_lib.py?line=188'>189</a>\u001b[0m     uri,\n\u001b[1;32m    <a href='file:///home/hevelyncarvalho/.local/lib/python3.8/site-packages/smart_open/smart_open_lib.py?line=189'>190</a>\u001b[0m     mode,\n\u001b[1;32m    <a href='file:///home/hevelyncarvalho/.local/lib/python3.8/site-packages/smart_open/smart_open_lib.py?line=190'>191</a>\u001b[0m     compression\u001b[39m=\u001b[39;49mcompression,\n\u001b[1;32m    <a href='file:///home/hevelyncarvalho/.local/lib/python3.8/site-packages/smart_open/smart_open_lib.py?line=191'>192</a>\u001b[0m     buffering\u001b[39m=\u001b[39;49mbuffering,\n\u001b[1;32m    <a href='file:///home/hevelyncarvalho/.local/lib/python3.8/site-packages/smart_open/smart_open_lib.py?line=192'>193</a>\u001b[0m     encoding\u001b[39m=\u001b[39;49mencoding,\n\u001b[1;32m    <a href='file:///home/hevelyncarvalho/.local/lib/python3.8/site-packages/smart_open/smart_open_lib.py?line=193'>194</a>\u001b[0m     errors\u001b[39m=\u001b[39;49merrors,\n\u001b[1;32m    <a href='file:///home/hevelyncarvalho/.local/lib/python3.8/site-packages/smart_open/smart_open_lib.py?line=194'>195</a>\u001b[0m     newline\u001b[39m=\u001b[39;49mnewline,\n\u001b[1;32m    <a href='file:///home/hevelyncarvalho/.local/lib/python3.8/site-packages/smart_open/smart_open_lib.py?line=195'>196</a>\u001b[0m )\n\u001b[1;32m    <a href='file:///home/hevelyncarvalho/.local/lib/python3.8/site-packages/smart_open/smart_open_lib.py?line=196'>197</a>\u001b[0m \u001b[39mif\u001b[39;00m fobj \u001b[39mis\u001b[39;00m \u001b[39mnot\u001b[39;00m \u001b[39mNone\u001b[39;00m:\n\u001b[1;32m    <a href='file:///home/hevelyncarvalho/.local/lib/python3.8/site-packages/smart_open/smart_open_lib.py?line=197'>198</a>\u001b[0m     \u001b[39mreturn\u001b[39;00m fobj\n",
      "File \u001b[0;32m~/.local/lib/python3.8/site-packages/smart_open/smart_open_lib.py:361\u001b[0m, in \u001b[0;36m_shortcut_open\u001b[0;34m(uri, mode, compression, buffering, encoding, errors, newline)\u001b[0m\n\u001b[1;32m    <a href='file:///home/hevelyncarvalho/.local/lib/python3.8/site-packages/smart_open/smart_open_lib.py?line=357'>358</a>\u001b[0m \u001b[39mif\u001b[39;00m errors \u001b[39mand\u001b[39;00m \u001b[39m'\u001b[39m\u001b[39mb\u001b[39m\u001b[39m'\u001b[39m \u001b[39mnot\u001b[39;00m \u001b[39min\u001b[39;00m mode:\n\u001b[1;32m    <a href='file:///home/hevelyncarvalho/.local/lib/python3.8/site-packages/smart_open/smart_open_lib.py?line=358'>359</a>\u001b[0m     open_kwargs[\u001b[39m'\u001b[39m\u001b[39merrors\u001b[39m\u001b[39m'\u001b[39m] \u001b[39m=\u001b[39m errors\n\u001b[0;32m--> <a href='file:///home/hevelyncarvalho/.local/lib/python3.8/site-packages/smart_open/smart_open_lib.py?line=360'>361</a>\u001b[0m \u001b[39mreturn\u001b[39;00m _builtin_open(local_path, mode, buffering\u001b[39m=\u001b[39;49mbuffering, \u001b[39m*\u001b[39;49m\u001b[39m*\u001b[39;49mopen_kwargs)\n",
      "\u001b[0;31mFileNotFoundError\u001b[0m: [Errno 2] No such file or directory: 'd2v_pretreined'"
     ]
    }
   ],
   "source": [
    "import datetime\n",
    "from similarity import *\n",
    "\n",
    "user_id = 1\n",
    "delta_time = (datetime.datetime.today() - datetime.timedelta(7)).strftime('%Y-%m-%d')    \n",
    "response = db_consume(conn, f\"SELECT * FROM quero_collab.posts where date(created_at) >= '{delta_time}' and author_id != {user_id}\")\n",
    "\n",
    "postsDF = pandas.DataFrame(response, columns=['post_id', 'author_id', 'text_data', 'created_at'])\n",
    "\n",
    "#tokens = get_tokens_from_posts(user_id, postsDF)  \n",
    "\n",
    "print(\"get model\")\n",
    "model_post = get_model(postsDF['text_data'])\n",
    "print(\"get sims\")\n",
    "metricsDF = get_posts_sims(model_post, postsDF)\n",
    "print(metricsDF)\n",
    "    \n",
    "\n",
    "        \n",
    "  "
   ]
  }
 ],
 "metadata": {
  "interpreter": {
   "hash": "916dbcbb3f70747c44a77c7bcd40155683ae19c65e1c03b4aa3499c5328201f1"
  },
  "kernelspec": {
   "display_name": "Python 3.8.10 64-bit",
   "language": "python",
   "name": "python3"
  },
  "language_info": {
   "codemirror_mode": {
    "name": "ipython",
    "version": 3
   },
   "file_extension": ".py",
   "mimetype": "text/x-python",
   "name": "python",
   "nbconvert_exporter": "python",
   "pygments_lexer": "ipython3",
   "version": "3.8.10"
  },
  "orig_nbformat": 4
 },
 "nbformat": 4,
 "nbformat_minor": 2
}
